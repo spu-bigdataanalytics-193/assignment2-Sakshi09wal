{
 "cells": [
  {
   "cell_type": "markdown",
   "metadata": {},
   "source": [
    "# Assignment 1 - Threading and Multiprocessing\n",
    "In this project, we will explore multithreading an multiprocessing difference. For that purpose, we have an imaginary colleage whose name is John, who asks for your help to increase the speed of his process while downloading images from internet.\n",
    "\n",
    "John already has the code for serial-programming, however, he don't know concurrent programming and parallel programming! Help John to succeed in his mission by using multithreading and multiprocessing logic to increase the speed of his task.\n",
    "\n",
    "He has two tasks:\n",
    "Download images from internet\n",
    "\n",
    "Resize them to 128x128 px."
   ]
  },
  {
   "cell_type": "markdown",
   "metadata": {},
   "source": [
    "# Imports"
   ]
  },
  {
   "cell_type": "code",
   "execution_count": 31,
   "metadata": {},
   "outputs": [],
   "source": [
    "import os\n",
    "import utils"
   ]
  },
  {
   "cell_type": "markdown",
   "metadata": {},
   "source": [
    "# Global Variables"
   ]
  },
  {
   "cell_type": "code",
   "execution_count": 32,
   "metadata": {},
   "outputs": [],
   "source": [
    "# Import 1000 images to test the code\n",
    "\n",
    "NUM_OF_IMAGES = 1000\n",
    "CLIENT_ID = utils.get_imgur_client_id()\n",
    "IMAGES_DIR = utils.create_download_dir()"
   ]
  },
  {
   "cell_type": "markdown",
   "metadata": {},
   "source": [
    "# 1. Downloading Images from Internet (Threading)\n",
    "In this section, we will download some images from internet. As network related tasks are considered as IO bound, it can be fasten by multithreading the downloading task. Our john already did serial way of downloading, it is your turn to do multithreading.\n",
    "\n",
    "You are free to choose any library you want. Your success will be based on your ability to beat John's timing.\n",
    "\n",
    "Serial Code of John"
   ]
  },
  {
   "cell_type": "code",
   "execution_count": 33,
   "metadata": {},
   "outputs": [
    {
     "name": "stdout",
     "output_type": "stream",
     "text": [
      "too many requests, enough, or you can choose to put time.sleep() in here...\n",
      "Wall time: 5.11 s\n"
     ]
    }
   ],
   "source": [
    "%%time\n",
    "\n",
    "image_links = utils.build_link_list(CLIENT_ID, NUM_OF_IMAGES)\n",
    "\n",
    "for image_link in image_links:\n",
    "    utils.download_image_from_url(image_link, IMAGES_DIR)"
   ]
  },
  {
   "cell_type": "markdown",
   "metadata": {},
   "source": [
    "# Multithreading John's Task"
   ]
  },
  {
   "cell_type": "code",
   "execution_count": 34,
   "metadata": {},
   "outputs": [
    {
     "name": "stdout",
     "output_type": "stream",
     "text": [
      "too many requests, enough, or you can choose to put time.sleep() in here...\n",
      "Wall time: 1.21 s\n"
     ]
    }
   ],
   "source": [
    "%%time\n",
    "\n",
    "import os\n",
    "import utils\n",
    "import urllib.request\n",
    "from concurrent.futures import ThreadPoolExecutor\n",
    "\n",
    "NUM_OF_IMAGES = 1000\n",
    "CLIENT_ID = utils.get_imgur_client_id()\n",
    "IMAGES_DIR = utils.create_download_dir()\n",
    "\n",
    "\n",
    "image_links = utils.build_link_list(CLIENT_ID, NUM_OF_IMAGES)\n",
    "\n",
    "with ThreadPoolExecutor(4) as executor:\n",
    "    results = executor.map(urllib.request.urlopen, image_links)"
   ]
  },
  {
   "cell_type": "code",
   "execution_count": 35,
   "metadata": {},
   "outputs": [
    {
     "name": "stdout",
     "output_type": "stream",
     "text": [
      "Wall time: 687 ms\n"
     ]
    }
   ],
   "source": [
    "%%time\n",
    "\n",
    "with ThreadPoolExecutor(6) as executor:\n",
    "    results = executor.map(urllib.request.urlopen, image_links)"
   ]
  },
  {
   "cell_type": "code",
   "execution_count": 36,
   "metadata": {},
   "outputs": [
    {
     "name": "stdout",
     "output_type": "stream",
     "text": [
      "Wall time: 766 ms\n"
     ]
    }
   ],
   "source": [
    "%%time\n",
    "\n",
    "with ThreadPoolExecutor(8) as executor:\n",
    "    results = executor.map(urllib.request.urlopen, image_links)"
   ]
  },
  {
   "cell_type": "code",
   "execution_count": 37,
   "metadata": {},
   "outputs": [
    {
     "name": "stdout",
     "output_type": "stream",
     "text": [
      "Wall time: 767 ms\n"
     ]
    }
   ],
   "source": [
    "%%time\n",
    "\n",
    "with ThreadPoolExecutor(16) as executor:\n",
    "    results = executor.map(urllib.request.urlopen, image_links)"
   ]
  },
  {
   "cell_type": "markdown",
   "metadata": {},
   "source": [
    "# Serial Code of John"
   ]
  },
  {
   "cell_type": "code",
   "execution_count": 38,
   "metadata": {},
   "outputs": [
    {
     "name": "stdout",
     "output_type": "stream",
     "text": [
      "Wall time: 6.67 s\n"
     ]
    }
   ],
   "source": [
    "%%time\n",
    "\n",
    "image_path_list = os.listdir('images')\n",
    "\n",
    "for image_path in image_path_list:\n",
    "    utils.create_thumbnail((128, 128), os.path.join('images', image_path))"
   ]
  },
  {
   "cell_type": "markdown",
   "metadata": {},
   "source": [
    "# Multiprocessing John's Task"
   ]
  },
  {
   "cell_type": "code",
   "execution_count": 2,
   "metadata": {},
   "outputs": [
    {
     "name": "stdout",
     "output_type": "stream",
     "text": [
      "too many requests, enough, or you can choose to put time.sleep() in here...\n",
      "Wall time: 600 ms\n"
     ]
    }
   ],
   "source": [
    "%%time\n",
    "import os\n",
    "import utils\n",
    "import multiprocessing\n",
    "\n",
    "\n",
    "NUM_OF_IMAGES = 1000\n",
    "CLIENT_ID = utils.get_imgur_client_id()\n",
    "IMAGES_DIR = utils.create_download_dir()\n",
    "\n",
    "image_links = utils.build_link_list(CLIENT_ID, NUM_OF_IMAGES)\n",
    "\n",
    "pool = multiprocessing.Pool(4)\n",
    "for image_link in image_links:\n",
    "    pool.apply_async(utils.create_thumbnail, args=((128, 128), os.path.join('images', image_link)))"
   ]
  },
  {
   "cell_type": "code",
   "execution_count": 10,
   "metadata": {},
   "outputs": [
    {
     "name": "stdout",
     "output_type": "stream",
     "text": [
      "                                 Method    Time\n",
      "0               Download images by John   5.11s\n",
      "1  Download images using Multithreading  1.21 s\n",
      "2               Resize Image Johns code  6.67 s\n",
      "3                       Multiprocessing  600 ms\n"
     ]
    }
   ],
   "source": [
    "import pandas as pd \n",
    "data = [['Download images by John','5.11s'],['Download images using Multithreading','1.21 s' ],['Resize Image Johns code','6.67 s'],['Multiprocessing','600 ms']]\n",
    "df = pd.DataFrame(data,columns=['Method','Time'])\n",
    "print(df)"
   ]
  },
  {
   "cell_type": "code",
   "execution_count": null,
   "metadata": {},
   "outputs": [],
   "source": []
  }
 ],
 "metadata": {
  "kernelspec": {
   "display_name": "Python 3",
   "language": "python",
   "name": "python3"
  },
  "language_info": {
   "codemirror_mode": {
    "name": "ipython",
    "version": 3
   },
   "file_extension": ".py",
   "mimetype": "text/x-python",
   "name": "python",
   "nbconvert_exporter": "python",
   "pygments_lexer": "ipython3",
   "version": "3.7.4"
  }
 },
 "nbformat": 4,
 "nbformat_minor": 2
}
